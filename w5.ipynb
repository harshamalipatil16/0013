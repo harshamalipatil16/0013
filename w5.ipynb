{
  "nbformat": 4,
  "nbformat_minor": 0,
  "metadata": {
    "colab": {
      "provenance": [],
      "include_colab_link": true
    },
    "kernelspec": {
      "name": "python3",
      "display_name": "Python 3"
    },
    "language_info": {
      "name": "python"
    }
  },
  "cells": [
    {
      "cell_type": "markdown",
      "metadata": {
        "id": "view-in-github",
        "colab_type": "text"
      },
      "source": [
        "<a href=\"https://colab.research.google.com/github/harshamalipatil16/0013/blob/main/w5.ipynb\" target=\"_parent\"><img src=\"https://colab.research.google.com/assets/colab-badge.svg\" alt=\"Open In Colab\"/></a>"
      ]
    },
    {
      "cell_type": "code",
      "execution_count": null,
      "metadata": {
        "colab": {
          "base_uri": "https://localhost:8080/"
        },
        "id": "1HHIEM2p1ftc",
        "outputId": "9e227464-1f49-43bb-be9e-fd1b0e141477"
      },
      "outputs": [
        {
          "output_type": "stream",
          "name": "stdout",
          "text": [
            "   id  age   gender  Salary\n",
            "0   1   25     Male  4000.0\n",
            "1   2   30     male     NaN\n",
            "2   3   30     Male  4000.0\n",
            "3   4   -5        F  5000.0\n",
            "4   5  200  Unknown -3000.0\n"
          ]
        }
      ],
      "source": [
        "import pandas as pd\n",
        "\n",
        "data = {\n",
        "    'id':[1,2,3,4,5],\n",
        "    'age':[25,30,30,-5,200],\n",
        "    'gender': ['Male', 'male', 'Male', 'F', 'Unknown'],\n",
        "    'Salary': [4000, None, 4000, 5000, -3000]\n",
        "}\n",
        "df = pd.DataFrame(data)\n",
        "print(df)"
      ]
    },
    {
      "cell_type": "code",
      "source": [
        "df.duplicated().sum()\n",
        "df[df.duplicated()]"
      ],
      "metadata": {
        "colab": {
          "base_uri": "https://localhost:8080/",
          "height": 280
        },
        "id": "dA6El-V73NRY",
        "outputId": "8a70f70d-56bd-4fb7-e993-68b63e08bd64"
      },
      "execution_count": null,
      "outputs": [
        {
          "output_type": "execute_result",
          "data": {
            "text/plain": [
              "Empty DataFrame\n",
              "Columns: [Name, Age, City]\n",
              "Index: []"
            ],
            "text/html": [
              "\n",
              "  <div id=\"df-222fdb92-cb69-487d-b4fa-a005de4658ef\" class=\"colab-df-container\">\n",
              "    <div>\n",
              "<style scoped>\n",
              "    .dataframe tbody tr th:only-of-type {\n",
              "        vertical-align: middle;\n",
              "    }\n",
              "\n",
              "    .dataframe tbody tr th {\n",
              "        vertical-align: top;\n",
              "    }\n",
              "\n",
              "    .dataframe thead th {\n",
              "        text-align: right;\n",
              "    }\n",
              "</style>\n",
              "<table border=\"1\" class=\"dataframe\">\n",
              "  <thead>\n",
              "    <tr style=\"text-align: right;\">\n",
              "      <th></th>\n",
              "      <th>Name</th>\n",
              "      <th>Age</th>\n",
              "      <th>City</th>\n",
              "    </tr>\n",
              "  </thead>\n",
              "  <tbody>\n",
              "  </tbody>\n",
              "</table>\n",
              "</div>\n",
              "    <div class=\"colab-df-buttons\">\n",
              "\n",
              "  <div class=\"colab-df-container\">\n",
              "    <button class=\"colab-df-convert\" onclick=\"convertToInteractive('df-222fdb92-cb69-487d-b4fa-a005de4658ef')\"\n",
              "            title=\"Convert this dataframe to an interactive table.\"\n",
              "            style=\"display:none;\">\n",
              "\n",
              "  <svg xmlns=\"http://www.w3.org/2000/svg\" height=\"24px\" viewBox=\"0 -960 960 960\">\n",
              "    <path d=\"M120-120v-720h720v720H120Zm60-500h600v-160H180v160Zm220 220h160v-160H400v160Zm0 220h160v-160H400v160ZM180-400h160v-160H180v160Zm440 0h160v-160H620v160ZM180-180h160v-160H180v160Zm440 0h160v-160H620v160Z\"/>\n",
              "  </svg>\n",
              "    </button>\n",
              "\n",
              "  <style>\n",
              "    .colab-df-container {\n",
              "      display:flex;\n",
              "      gap: 12px;\n",
              "    }\n",
              "\n",
              "    .colab-df-convert {\n",
              "      background-color: #E8F0FE;\n",
              "      border: none;\n",
              "      border-radius: 50%;\n",
              "      cursor: pointer;\n",
              "      display: none;\n",
              "      fill: #1967D2;\n",
              "      height: 32px;\n",
              "      padding: 0 0 0 0;\n",
              "      width: 32px;\n",
              "    }\n",
              "\n",
              "    .colab-df-convert:hover {\n",
              "      background-color: #E2EBFA;\n",
              "      box-shadow: 0px 1px 2px rgba(60, 64, 67, 0.3), 0px 1px 3px 1px rgba(60, 64, 67, 0.15);\n",
              "      fill: #174EA6;\n",
              "    }\n",
              "\n",
              "    .colab-df-buttons div {\n",
              "      margin-bottom: 4px;\n",
              "    }\n",
              "\n",
              "    [theme=dark] .colab-df-convert {\n",
              "      background-color: #3B4455;\n",
              "      fill: #D2E3FC;\n",
              "    }\n",
              "\n",
              "    [theme=dark] .colab-df-convert:hover {\n",
              "      background-color: #434B5C;\n",
              "      box-shadow: 0px 1px 3px 1px rgba(0, 0, 0, 0.15);\n",
              "      filter: drop-shadow(0px 1px 2px rgba(0, 0, 0, 0.3));\n",
              "      fill: #FFFFFF;\n",
              "    }\n",
              "  </style>\n",
              "\n",
              "    <script>\n",
              "      const buttonEl =\n",
              "        document.querySelector('#df-222fdb92-cb69-487d-b4fa-a005de4658ef button.colab-df-convert');\n",
              "      buttonEl.style.display =\n",
              "        google.colab.kernel.accessAllowed ? 'block' : 'none';\n",
              "\n",
              "      async function convertToInteractive(key) {\n",
              "        const element = document.querySelector('#df-222fdb92-cb69-487d-b4fa-a005de4658ef');\n",
              "        const dataTable =\n",
              "          await google.colab.kernel.invokeFunction('convertToInteractive',\n",
              "                                                    [key], {});\n",
              "        if (!dataTable) return;\n",
              "\n",
              "        const docLinkHtml = 'Like what you see? Visit the ' +\n",
              "          '<a target=\"_blank\" href=https://colab.research.google.com/notebooks/data_table.ipynb>data table notebook</a>'\n",
              "          + ' to learn more about interactive tables.';\n",
              "        element.innerHTML = '';\n",
              "        dataTable['output_type'] = 'display_data';\n",
              "        await google.colab.output.renderOutput(dataTable, element);\n",
              "        const docLink = document.createElement('div');\n",
              "        docLink.innerHTML = docLinkHtml;\n",
              "        element.appendChild(docLink);\n",
              "      }\n",
              "    </script>\n",
              "  </div>\n",
              "\n",
              "\n",
              "    </div>\n",
              "  </div>\n"
            ],
            "application/vnd.google.colaboratory.intrinsic+json": {
              "type": "dataframe",
              "repr_error": "Out of range float values are not JSON compliant: nan"
            }
          },
          "metadata": {},
          "execution_count": 18
        },
        {
          "output_type": "display_data",
          "data": {
            "text/plain": [
              "<google.colab._quickchart_helpers.SectionTitle at 0x7972516b2f50>"
            ],
            "text/html": [
              "<h4 class=\"colab-quickchart-section-title\">Time series</h4>\n",
              "<style>\n",
              "  .colab-quickchart-section-title {\n",
              "      clear: both;\n",
              "  }\n",
              "</style>"
            ]
          },
          "metadata": {}
        },
        {
          "output_type": "display_data",
          "data": {
            "text/plain": [
              "from matplotlib import pyplot as plt\n",
              "import seaborn as sns\n",
              "def _plot_series(series, series_name, series_index=0):\n",
              "  palette = list(sns.palettes.mpl_palette('Dark2'))\n",
              "  counted = (series['index']\n",
              "                .value_counts()\n",
              "              .reset_index(name='counts')\n",
              "              .rename({'index': 'index'}, axis=1)\n",
              "              .sort_values('index', ascending=True))\n",
              "  xs = counted['index']\n",
              "  ys = counted['counts']\n",
              "  plt.plot(xs, ys, label=series_name, color=palette[series_index % len(palette)])\n",
              "\n",
              "fig, ax = plt.subplots(figsize=(10, 5.2), layout='constrained')\n",
              "df_sorted = _df_0.sort_values('index', ascending=True)\n",
              "_plot_series(df_sorted, '')\n",
              "sns.despine(fig=fig, ax=ax)\n",
              "plt.xlabel('index')\n",
              "_ = plt.ylabel('count()')"
            ],
            "text/html": [
              "      <div class=\"colab-quickchart-chart-with-code\" id=\"chart-996e919f-2805-4ace-bc89-a29aa6d88d0f\">\n",
              "        <img style=\"width: 180px;\" src=\"data:image/png;base64,iVBORw0KGgoAAAANSUhEUgAAA/MAAAITCAYAAABLz0yVAAAAOnRFWHRTb2Z0d2FyZQBNYXRwbG90\n",
              "bGliIHZlcnNpb24zLjEwLjAsIGh0dHBzOi8vbWF0cGxvdGxpYi5vcmcvlHJYcgAAAAlwSFlzAAAP\n",
              "YQAAD2EBqD+naQAAI4RJREFUeJzt3X+slvV9//HX8ZzkWDsFDCgkcKBwOLb1F4IQfnQz2jQzxl+T\n",
              "tboNF1L5oVuMGd1EMtnC6sRNpVpp4sEZVkfCzMBasiZL1G6OVjZkq+3EWTiUwzm2IF2tHNYp5XCu\n",
              "7x+m59tTfniO3pzjBx+P5Eq57+tzzv2+kk9OfPa+z3XqqqqqAgAAABTjtKEeAAAAABgYMQ8AAACF\n",
              "EfMAAABQGDEPAAAAhRHzAAAAUBgxDwAAAIUR8wAAAFAYMQ8AAACFEfNJHn744aEeAQAAAPpNzCfZ\n",
              "s2fPUI8AAAAA/SbmAQAAoDBiHgAAAAoj5gEAAKAwYh4AAAAKI+YBAACgMGIeAAAACiPmAQAAoDBi\n",
              "HgAAAAoj5gEAAKAwYh4AAAAKI+YBAACgMGIeAAAACiPmAQAAoDBiHgAAAAoj5gEAAKAwYh4AAAAK\n",
              "I+YBAACgMGIeAAAACiPmAQAAoDBiHgAAAAoj5gEAAKAwYh4AAAAKI+YBAACgMGIeAAAACiPmAQAA\n",
              "oDBiHgAAAAoj5gEAAKAwYh4AAAAKI+YBAACgMGIeAAAACiPmAQAAoDBiHgAAAAoj5gEAAKAwYh4A\n",
              "AAAKI+YBAACgMGIeAAAACiPmAQAAoDBiHgAAAAoj5gEAAKAwYh4AAAAKI+YBAACgMGIeAAAACiPm\n",
              "AQAAoDBiHgAAAAoj5gEAAKAwYh4AAAAKI+YBAACgMGIeAAAACiPmAQAAoDBiHgAAAAoj5gEAAKAw\n",
              "Yh4AAAAKI+YBAACgMGIeAAAACiPmAQAAoDBiHgAAAAoj5gEAAKAwYh4AAAAKI+YBAACgMGIeAAAA\n",
              "CiPmAQAAoDAfiJjfuXNnZs+enZaWlkyfPj3bt28/5rrHH388kydPzqRJk7Jw4cIcPny4z/mqqnLF\n",
              "FVdk+PDhgzA1AAAADI0PRMwvXrw4ixYtyo4dO7J06dLMnz//qDW7d+/O8uXLs3nz5rS1teX111/P\n",
              "mjVr+qz50pe+lEmTJg3S1AAAADA0hjzm9+/fn23btmXevHlJkrlz56azszNtbW191m3YsCHXXntt\n",
              "Ro8enbq6utx6661Zv3597/nt27fn6aefzl133XXC1zt06FC6urr6HEeOHKn9hQEAAMBJMuQx39nZ\n",
              "mTFjxqShoSFJUldXl6ampnR0dPRZ19HRkfHjx/c+njBhQu+aw4cPZ+HChWltbU19ff0JX2/lypUZ\n",
              "NmxYn2Pr1q01vioAAAA4eYY85mthxYoVueGGG/KJT3ziXdcuW7YsBw4c6HPMmDFjEKYEAACA2mgY\n",
              "6gHGjRuXvXv3pru7Ow0NDamqKh0dHWlqauqzrqmpKbt27ep93N7e3rvm+eefT0dHR1avXp3u7u50\n",
              "dXVlwoQJefHFFzNq1Kg+36exsTGNjY19nnu3d/MBAADgg2TI35k/55xzMnXq1Kxbty5JsnHjxowd\n",
              "OzbNzc191s2dOzebNm3Kvn37UlVVHn300dx0001Jks2bN2fPnj1pb2/Pt771rZx11llpb28/KuQB\n",
              "AADgVDDkMZ8kra2taW1tTUtLS+67776sXbs2SbJgwYJs2rQpSTJx4sSsWLEic+bMSXNzc0aNGpXF\n",
              "ixcP5dgAAAAwJOqqqqqGeoihtmTJkqxatWqoxwAAAIB++UC8Mw8AAAD0n5gHAACAwoh5AAAAKIyY\n",
              "BwAAgMKIeQAAACiMmAcAAIDCiHkAAAAojJgHAACAwoh5AAAAKIyYBwAAgMKIeQAAACiMmAcAAIDC\n",
              "iHkAAAAojJgHAACAwoh5AAAAKIyYBwAAgMKIeQAAACiMmAcAAIDCiHkAAAAojJgHAACAwoh5AAAA\n",
              "KIyYBwAAgMKIeQAAACiMmAcAAIDCiHkAAAAojJgHAACAwoh5AAAAKIyYBwAAgMKIeQAAACiMmAcA\n",
              "AIDCiHkAAAAojJgHAACAwoh5AAAAKIyYBwAAgMKIeQAAACiMmAcAAIDCiHkAAAAojJgHAACAwoh5\n",
              "AAAAKIyYBwAAgMKIeQAAACiMmAcAAIDCiHkAAAAojJgHAACAwoh5AAAAKIyYBwAAgMKIeQAAACiM\n",
              "mAcAAIDCiHkAAAAojJgHAACAwoh5AAAAKIyYBwAAgMKIeQAAACiMmAcAAIDCiHkAAAAojJgHAACA\n",
              "woh5AAAAKIyYBwAAgMKIeQAAACiMmAcAAIDCiHkAAAAojJgHAACAwoh5AAAAKIyYBwAAgMKIeQAA\n",
              "ACiMmAcAAIDCiHkAAAAojJgHAACAwoh5AAAAKIyYBwAAgMKIeQAAACiMmAcAAIDCiHkAAAAojJgH\n",
              "AACAwoh5AAAAKIyYBwAAgMKIeQAAACiMmAcAAIDCfCBifufOnZk9e3ZaWloyffr0bN++/ZjrHn/8\n",
              "8UyePDmTJk3KwoULc/jw4STJN7/5zcyYMSOf/OQnc/755+fOO+9MT0/PYF4CAAAADJoPRMwvXrw4\n",
              "ixYtyo4dO7J06dLMnz//qDW7d+/O8uXLs3nz5rS1teX111/PmjVrkiQjRozI3//93+eVV17Jf/zH\n",
              "f+SFF17IE088MchXAQAAAINjyGN+//792bZtW+bNm5ckmTt3bjo7O9PW1tZn3YYNG3Lttddm9OjR\n",
              "qaury6233pr169cnSS655JJMnDgxSXL66adnypQpaW9vP+brHTp0KF1dXX2OI0eOnLwLBAAAgBob\n",
              "8pjv7OzMmDFj0tDQkCSpq6tLU1NTOjo6+qzr6OjI+PHjex9PmDDhqDVJsm/fvmzYsCFXX331MV9v\n",
              "5cqVGTZsWJ9j69atNbwiAAAAOLmGPOZrqaurK9dcc03uvPPOXHrppcdcs2zZshw4cKDPMWPGjEGe\n",
              "FAAAAN67hqEeYNy4cdm7d2+6u7vT0NCQqqrS0dGRpqamPuuampqya9eu3sft7e191hw8eDBXXnll\n",
              "rrvuuixZsuS4r9fY2JjGxsY+z9XX19foagAAAODkG/J35s8555xMnTo169atS5Js3LgxY8eOTXNz\n",
              "c591c+fOzaZNm7Jv375UVZVHH300N910U5Lkf//3f3PllVfmyiuvzN133z3o1wAAAACDachjPkla\n",
              "W1vT2tqalpaW3HfffVm7dm2SZMGCBdm0aVOSZOLEiVmxYkXmzJmT5ubmjBo1KosXL06SPPzww9m6\n",
              "dWueeuqpTJkyJVOmTMlf/uVfDtn1AAAAwMlUV1VVNdRDDLUlS5Zk1apVQz0GAAAA9MsH4p15AAAA\n",
              "oP/EPAAAABRGzAMAAEBhxDwAAAAURswDAABAYcQ8AAAAFEbMAwAAQGHEPAAAABRGzAMAAEBhxDwA\n",
              "AAAURswDAABAYcQ8AAAAFEbMAwAAQGHEPAAAABRGzAMAAEBhxDwAAAAURswDAABAYcQ8AAAAFEbM\n",
              "AwAAQGHEPAAAABRGzAMAAEBhxDwAAAAURswDAABAYcQ8AAAAFEbMAwAAQGHEPAAAABRGzAMAAEBh\n",
              "xDwAAAAURswDAABAYcQ8AAAAFEbMAwAAQGHEPAAAABRGzAMAAEBhxDwAAAAURswDAABAYcQ8AAAA\n",
              "FEbMAwAAQGHEPAAAABRGzAMAAEBhxDwAAAAURswDAABAYcQ8AAAAFEbMAwAAQGHEPAAAABRGzAMA\n",
              "AEBhxDwAAAAURswDAABAYcQ8AAAAFEbMAwAAQGHEPAAAABRGzAMAAEBhxDwAAAAURswDAABAYcQ8\n",
              "AAAAFEbMAwAAQGHEPAAAABRGzAMAAEBhxDwAAAAURswDAABAYcQ8AAAAFEbMAwAAQGHEPAAAABRG\n",
              "zAMAAEBhxDwAAAAUpuG9fNErr7yS1157LR/5yEdy4YUXZvjw4TUeCwAAADiefsf8wYMH88ADD+Sx\n",
              "xx7LGWeckXPPPTdvv/12du3alRkzZmTp0qX59Kc/fTJnBQAAADKAmL/88svz+7//+/nOd76Tc889\n",
              "t/f5np6ebN68OY8++mja2tqyePHikzIoAAAA8I5+x/y3v/3tNDY2HvX8aaedlssuuyyXXXZZDh06\n",
              "VNPhAAAAgKP1+wZ4xwr597IGAAAAeH/6HfNXX311XnjhhWOee/PNN/Pggw+mtbW1ZoMBAAAAx9bv\n",
              "j9nfe++9WbZsWV555ZVMnz699wZ4r776an74wx/mD//wD/P5z3/+ZM4KAAAAZAAxf9FFF+Ub3/hG\n",
              "Ojs78/zzz+e1117LGWeckd/7vd/Lpz71qTQ0vKe/cgcAAAAM0IAL/Kc//WnmzZvX57nvfe97ueii\n",
              "i2o2FAAAAHB8/f6d+V+YP39+v54DAAAATo5+vzO/f//+7Nu3L2+99Vb+67/+K1VVJUkOHDiQn/3s\n",
              "ZydtQAAAAKCvfsf8+vXr89BDD+VHP/pRrr322t7nhw0bljvvvPOkDAcAAAAcrd8xf8cdd+SOO+7I\n",
              "F7/4xSxfvvxkzgQAAACcwIBvgLd8+fL09PRk37596e7u7n2+qamppoMBAAAAxzbgG+B99atfzfDh\n",
              "w3PhhRdm2rRpmTZtWi699NL3NcTOnTsze/bstLS0ZPr06dm+ffsx1z3++OOZPHlyJk2alIULF+bw\n",
              "4cP9OgcAAACnkgHH/F/8xV/kxRdfzE9+8pP8+Mc/zo9//OPs37//fQ2xePHiLFq0KDt27MjSpUuP\n",
              "eXf83bt3Z/ny5dm8eXPa2try+uuvZ82aNe96DgAAAE41A475kSNH5rzzzqvZAPv378+2bdt6/3b9\n",
              "3Llz09nZmba2tj7rNmzYkGuvvTajR49OXV1dbr311qxfv/5dzwEAAMCpZsAxf/311+ehhx7K/v37\n",
              "09XV1Xu8V52dnRkzZkwaGt759f26uro0NTWlo6Ojz7qOjo6MHz++9/GECRN615zo3K86dOhQn7m7\n",
              "urpy5MiR9zw/AAAADLYBx/yf/umfZsmSJRk9enRGjBiR4cOHZ8SIESdjtpNi5cqVGTZsWJ9j69at\n",
              "Qz0WAAAA9NuAY76np6f3OHLkSO//vlfjxo3L3r17e++MX1VVOjo6jro7flNTU/bs2dP7uL29vXfN\n",
              "ic79qmXLluXAgQN9jhkzZrzn+QEAAGCwDTjma+2cc87J1KlTs27duiTJxo0bM3bs2DQ3N/dZN3fu\n",
              "3GzatCn79u1LVVV59NFHc9NNN73ruV/V2NiYs846q89RX19/ci8SAAAAamjAMX/aaaelvr7+qOP9\n",
              "aG1tTWtra1paWnLfffdl7dq1SZIFCxZk06ZNSZKJEydmxYoVmTNnTpqbmzNq1KgsXrz4Xc8BAADA\n",
              "qaauqqpqIF/ws5/9rPffb731Vp544okcOXIkf/Inf1Lz4QbLkiVLsmrVqqEeAwAAAPplwO/Mf/Sj\n",
              "H+09Ro4cmSVLlmTDhg0nYzYAAADgGN7378y/+uqr+Z//+Z9azAIAAAD0Q8NAv2DEiBGpq6tLkt47\n",
              "0D/yyCO1nQoAAAA4rgHH/EsvvfT/v7ihIaNHj3Y3eAAAABhEA4758ePH5//+7/96o37EiBE544wz\n",
              "aj0XAAAAcBwDjvkXXnghc+fOzejRo5Mkr7/+ejZu3JhZs2bVfDgAAADgaAOO+V/cvX7OnDlJ3on7\n",
              "P/qjP8q//du/1Xw4AAAA4GgDvpv9W2+91RvySTJ79uy8/fbbNR0KAAAAOL4Bx/yv/dqv5dlnn+19\n",
              "/Nxzz+WjH/1oTYcCAAAAjm/AH7P/8pe/nBtuuKH3DvY9PT156qmnaj4YAAAAcGwDjvkf/ehH2bZt\n",
              "W15//fUkybnnnputW7fWfDAAAADg2Ab8Mfvly5dn1KhRueCCC3LBBRdk5MiRWb58+cmYDQAAADiG\n",
              "Acf8r6qrq8uRI0dqMQsAAADQDwOO+TPPPDMvvPBC7+Nvf/vbOfPMM2s6FAAAAHB8A/6d+b/+67/O\n",
              "b/3Wb+XjH/94kmTnzp352te+VvPBAAAAgGMbcMzPmjUr//3f/50tW7YkeefvzA8fPrzWcwEAAADH\n",
              "MeCYT5IRI0bkqquuqvUsAAAAQD+87xvgAQAAAINLzAMAAEBhxDwAAAAURswDAABAYcQ8AAAAFEbM\n",
              "AwAAQGHEPAAAABRGzAMAAEBhxDwAAAAURswDAABAYcQ8AAAAFEbMAwAAQGHEPAAAABRGzAMAAEBh\n",
              "xDwAAAAURswDAABAYcQ8AAAAFEbMAwAAQGHEPAAAABRGzAMAAEBhxDwAAAAURswDAABAYcQ8AAAA\n",
              "FEbMAwAAQGHEPAAAABRGzAMAAEBhxDwAAAAURswDAABAYcQ8AAAAFEbMAwAAQGHEPAAAABRGzAMA\n",
              "AEBhxDwAAAAURswDAABAYcQ8AAAAFEbMAwAAQGHEPAAAABRGzAMAAEBhxDwAAAAURswDAABAYcQ8\n",
              "AAAAFEbMAwAAQGHEPAAAABRGzAMAAEBhxDwAAAAURswDAABAYcQ8AAAAFEbMAwAAQGHEPAAAABRG\n",
              "zAMAAEBhxDwAAAAURswDAABAYcQ8AAAAFEbMAwAAQGHEPAAAABRGzAMAAEBhxDwAAAAURswDAABA\n",
              "YcQ8AAAAFEbMAwAAQGHEPAAAABRGzAMAAEBhhjTme3p6cvvtt2fSpElpbm7O6tWrj7t2586dmT17\n",
              "dlpaWjJ9+vRs3749SfL222/n+uuvT0tLSy6++OJ85jOfSVtb22BdAgAAAAy6IY35devW5ZVXXsmO\n",
              "HTuydevW3H///b2R/qsWL16cRYsWZceOHVm6dGnmz5/fe27RokX5/ve/n+9+97u57rrrsmDBgkG6\n",
              "AgAAABh8QxrzTz75ZBYuXJj6+vqcffbZufHGG7N+/fqj1u3fvz/btm3LvHnzkiRz585NZ2dn2tra\n",
              "cvrpp+eqq65KXV1dkmTmzJlpb28/7mseOnQoXV1dfY4jR46clOsDAACAk2FIY76joyPjx4/vfTxh\n",
              "woR0dHQcta6zszNjxoxJQ0NDkqSuri5NTU3HXPvwww/nuuuuO+5rrly5MsOGDetzbN26tQZXAwAA\n",
              "AIPjpMb8rFmzMnLkyGMenZ2dNX+9e++9N21tbVm5cuVx1yxbtiwHDhzoc8yYMaPmswAAAMDJ0nAy\n",
              "v/mWLVtOeL6pqSl79uzJrFmzkiTt7e1pamo6at24ceOyd+/edHd3p6GhIVVVpaOjo8/aBx54IE89\n",
              "9VSeffbZnHHGGcd9zcbGxjQ2NvZ5rr6+fiCXBQAAAENqSD9m/9nPfjaPPfZYjhw5kjfeeCNPPvlk\n",
              "brzxxqPWnXPOOZk6dWrWrVuXJNm4cWPGjh2b5ubmJMmqVauyfv36PPPMMxk+fPhgXgIAAAAMupP6\n",
              "zvy7ufnmm/Piiy9m8uTJqaury5IlS3LhhRcmSTZt2pRNmzblb/7mb5Ikra2tmT9/fu69996cddZZ\n",
              "Wbt2bZLktddeyxe+8IVMnDgxl19+eZJ33n3/93//96G5KAAAADjJ6qqqqoZ6iKG2ZMmSrFq1aqjH\n",
              "AAAAgH4Z0o/ZAwAAAAMn5gEAAKAwYh4AAAAKI+YBAACgMGIeAAAACiPmAQAAoDBiHgAAAAoj5gEA\n",
              "AKAwYh4AAAAKI+YBAACgMGIeAAAACiPmAQAAoDBiHgAAAAoj5gEAAKAwYh4AAAAKI+YBAACgMGIe\n",
              "AAAACiPmAQAAoDBiHgAAAAoj5gEAAKAwYh4AAAAKI+YBAACgMGIeAAAACiPmAQAAoDBiHgAAAAoj\n",
              "5gEAAKAwYh4AAAAKI+YBAACgMGIeAAAACiPmAQAAoDBiHgAAAAoj5gEAAKAwYh4AAAAKI+YBAACg\n",
              "MGIeAAAACiPmAQAAoDBiHgAAAAoj5gEAAKAwYh4AAAAKI+YBAACgMGIeAAAACiPmAQAAoDBiHgAA\n",
              "AAoj5gEAAKAwYh4AAAAKI+YBAACgMGIeAAAACiPmAQAAoDBiHgAAAAoj5gEAAKAwYh4AAAAKI+YB\n",
              "AACgMGIeAAAACiPmAQAAoDBiHgAAAAoj5gEAAKAwYh4AAAAKI+YBAACgMGIeAAAACiPmAQAAoDBi\n",
              "HgAAAAoj5gEAAKAwYh4AAAAKI+YBAACgMGIeAAAACiPmAQAAoDBiHgAAAAoj5gEAAKAwYh4AAAAK\n",
              "I+YBAACgMGIeAAAACiPmAQAAoDBiHgAAAAoj5gEAAKAwYh4AAAAKI+YBAACgMGIeAAAACiPmAQAA\n",
              "oDBDGvM9PT25/fbbM2nSpDQ3N2f16tXHXbtz587Mnj07LS0tmT59erZv337UmrVr16auri5PP/30\n",
              "SZwaAAAAhtaQxvy6devyyiuvZMeOHdm6dWvuv//+Y0Z6kixevDiLFi3Kjh07snTp0syfP7/P+fb2\n",
              "9jz22GOZOXPmIEwOAAAAQ2dIY/7JJ5/MwoULU19fn7PPPjs33nhj1q9ff9S6/fv3Z9u2bZk3b16S\n",
              "ZO7cuens7ExbW1uSd97hX7BgQR555JE0Njae8DUPHTqUrq6uPseRI0dqf3EAAABwkgxpzHd0dGT8\n",
              "+PG9jydMmJCOjo6j1nV2dmbMmDFpaGhIktTV1aWpqal37apVqzJnzpxMmzbtXV9z5cqVGTZsWJ9j\n",
              "69atNboiAAAAOPlOaszPmjUrI0eOPObR2dlZk9d4+eWXs3Hjxtx99939Wr9s2bIcOHCgzzFjxoya\n",
              "zAIAAACDoeFkfvMtW7ac8HxTU1P27NmTWbNmJXnn996bmpqOWjdu3Ljs3bs33d3daWhoSFVV6ejo\n",
              "SFNTU5555pm0t7dn8uTJSZJ9+/Zl0aJF2bt3b2677bajvldjY+NRH8Wvr69/r5cIAAAAg25IP2b/\n",
              "2c9+No899liOHDmSN954I08++WRuvPHGo9adc845mTp1atatW5ck2bhxY8aOHZvm5ubcdttt2bt3\n",
              "b9rb29Pe3p6ZM2dmzZo1xwx5AAAAOBUMaczffPPN+fjHP57Jkydn+vTpWbJkSS688MIkyaZNm7Jg\n",
              "wYLeta2trWltbU1LS0vuu+++rF27dqjGBgAAgCFVV1VVNdRDDLUlS5Zk1apVQz0GAAAA9MuQvjMP\n",
              "AAAADJyYBwAAgMKIeQAAACiMmAcAAIDCiHkAAAAojJgHAACAwoh5AAAAKIyYBwAAgMKIeQAAACiM\n",
              "mAcAAIDCiHkAAAAojJgHAACAwoh5AAAAKIyYBwAAgMKIeQAAACiMmAcAAIDCiHkAAAAojJgHAACA\n",
              "woh5AAAAKIyYBwAAgMKIeQAAACiMmAcAAIDCiHkAAAAojJgHAACAwoh5AAAAKIyYBwAAgMKIeQAA\n",
              "ACiMmAcAAIDCiHkAAAAojJgHAACAwoh5AAAAKIyYBwAAgMKIeQAAACiMmAcAAIDCiHkAAAAojJgH\n",
              "AACAwoh5AAAAKIyYBwAAgMKIeQAAACiMmAcAAIDCiHkAAAAojJgHAACAwoh5AAAAKIyYBwAAgMKI\n",
              "eQAAACiMmAcAAIDCiHkAAAAojJgHAACAwoh5AAAAKIyYBwAAgMKIeQAAACiMmAcAAIDCiHkAAAAo\n",
              "jJgHAACAwoh5AAAAKIyYBwAAgMKIeQAAACiMmAcAAIDCiHkAAAAojJgHAACAwtRVVVUN9RBD7YYb\n",
              "bsiECROGegyGwJEjR7J169bMmDEj9fX1Qz0OHJN9SgnsU0phr1IC+5Tx48fnjjvuOOEaMc+HWldX\n",
              "V4YNG5YDBw7krLPOGupx4JjsU0pgn1IKe5US2Kf0h4/ZAwAAQGHEPAAAABRGzAMAAEBhxDwfao2N\n",
              "jfnzP//zNDY2DvUocFz2KSWwTymFvUoJ7FP6ww3wAAAAoDDemQcAAIDCiHkAAAAojJgHAACAwoh5\n",
              "Tnk9PT25/fbbM2nSpDQ3N2f16tXHXbtz587Mnj07LS0tmT59erZv337UmrVr16auri5PP/30SZya\n",
              "D5ta7NO33347119/fVpaWnLxxRfnM5/5TNra2gbrEjiF9ednY5I8/vjjmTx5ciZNmpSFCxfm8OHD\n",
              "/ToHtfB+9+k3v/nNzJgxI5/85Cdz/vnn584770xPT89gXgIfArX4eZokVVXliiuuyPDhwwdhaj6w\n",
              "KjjFffWrX62uuOKKqru7u/rJT35SNTU1VS+//PIx115++eXV2rVrq6qqqn/4h3+oLr300j7nd+/e\n",
              "Xc2aNauaOXNm9bWvfe0kT86HSS326VtvvVV94xvfqHp6eqqqqqpHHnmkuuyyywZjfE5x7/azsaqq\n",
              "6gc/+EE1ZsyYau/evVVPT091zTXXVKtXr37Xc1Ar73ef/ud//me1a9euqqre+Xk6Z86c3u8HtfJ+\n",
              "9+kvPPjgg9WCBQuqYcOGDcLUfFB5Z55T3pNPPpmFCxemvr4+Z599dm688casX7/+qHX79+/Ptm3b\n",
              "Mm/evCTJ3Llz09nZ2fvOZk9PTxYsWJBHHnnEnwmh5mqxT08//fRcddVVqaurS5LMnDkz7e3tg3kZ\n",
              "nILe7WfjL2zYsCHXXnttRo8enbq6utx66629e/hE56AWarFPL7nkkkycODFJcvrpp2fKlCl+hlJT\n",
              "tdinSbJ9+/Y8/fTTueuuuwZ1fj54xDynvI6OjowfP7738YQJE9LR0XHUus7OzowZMyYNDQ1Jkrq6\n",
              "ujQ1NfWuXbVqVebMmZNp06YNzuB8qNRqn/6yhx9+ONddd93JG5oPhf7uuRPt4f7ub3ivarFPf9m+\n",
              "ffuyYcOGXH311Sd3cD5UarFPDx8+nIULF6a1tTX19fWDNzwfSA1DPQC8X7NmzcrOnTuPee473/lO\n",
              "TV7j5ZdfzsaNG/Ov//qvNfl+fPgMxj79Zffee2/a2try3HPP1fx7A5zKurq6cs011+TOO+/MpZde\n",
              "OtTjQB8rVqzIDTfckE984hM+OYKYp3xbtmw54fmmpqbs2bMns2bNSpK0t7enqanpqHXjxo3L3r17\n",
              "093dnYaGhlRVlY6OjjQ1NeWZZ55Je3t7Jk+enOSd/8d+0aJF2bt3b2677bbaXxSnnMHYp7/wwAMP\n",
              "5Kmnnsqzzz6bM844o7YXwodOf/Zc8s4e3rVrV+/jX97DJzoHtVCLfZokBw8ezJVXXpnrrrsuS5Ys\n",
              "GbT5+XCoxT59/vnn09HRkdWrV6e7uztdXV2ZMGFCXnzxxYwaNWpQr4cPgCH9jX0YBGvXrj3qxmLf\n",
              "+973jrn2sssu63NTkmnTph13nRvgUUu12qcPPvhgNXXq1OqNN94YjLH5kOjPz8Zdu3YddcOmRx55\n",
              "5F3PQa2833168ODBavbs2dWKFSsGc2w+ZN7vPv1lu3fvdgO8Dzkxzymvu7u7+oM/+IPqYx/7WDVx\n",
              "4sTqoYce6j339a9/vbrlllt6H7/66qvVzJkzq8mTJ1fTpk07YUyJeWqpFvu0s7OzSlJNnDixuvji\n",
              "i6uLL764mjFjxqBfC6ee4+25W265pfr617/eu27NmjXVxIkTq4kTJ1af//znq5///Of9Oge18H73\n",
              "6T333FM1NDT0/vy8+OKLq3vuuWdIroVTVy1+nv6CmKeuqqpqqD8dAAAAAPSfu9kDAABAYcQ8AAAA\n",
              "FEbMAwAAQGHEPADQx5QpU3Lw4MEBf91v//Zv52//9m9rPxAAcBR/Zx4A6OOll14a6hEAgHfhnXkA\n",
              "oI+6urq8+eabSZIJEybkz/7szzJr1qx87GMfyz333NO77tVXX83s2bNz/vnn5/rrr09XV1fvuYMH\n",
              "D2bhwoWZMWNGLrrooixatCg///nP8/3vfz9jx47ND37wgyTJAw88kCuvvDI9PT2Deo0AUDoxDwCc\n",
              "0JtvvpktW7bkxRdfzP33358f/vCHSZKbb745t9xyS7Zv354vfvGLef7553u/5gtf+EJ+/dd/PVu3\n",
              "bs13v/vd9PT05OGHH855552X+++/P5/73OfyL//yL/nKV76Sv/u7v8tpp/lPEgAYCB+zBwBO6Hd/\n",
              "93eTJCNHjszEiROze/funHnmmXnppZcyf/78JMmFF16YT33qU71f8/TTT2fLli1ZtWpVkuStt95K\n",
              "fX19kuR3fud38s///M/5zd/8zTz33HMZNWrU4F4QAJwCxDwAcEKnn35677/r6+vT3d19zHV1dXW9\n",
              "/66qKhs3bkxLS8tR67q7u/Pyyy/n7LPP7n2XHwAYGJ9pAwAG7Kyzzsoll1ySJ554Ikmyffv2fOtb\n",
              "3+o9f/311+ev/uqvesP/pz/9adra2pIkd911V84777xs3rw5f/zHf9z7PADQf2IeAHhPnnjiiaxZ\n",
              "syYXXHBB7r777vzGb/xG77kvfelL+chHPpIpU6bkoosuyqc//em0t7fnH//xH/NP//RP+cpXvpLm\n",
              "5uasWrUqn/vc5/L2228P4ZUAQHnqqqqqhnoIAAAAoP+8Mw8AAACFEfMAAABQGDEPAAAAhRHzAAAA\n",
              "UBgxDwAAAIUR8wAAAFAYMQ8AAACFEfMAAABQGDEPAAAAhRHzAAAAUJj/B1WdTR1jE+1WAAAAAElF\n",
              "TkSuQmCC\n",
              "\">\n",
              "      </div>\n",
              "      <script type=\"text/javascript\">\n",
              "        (() => {\n",
              "          const chartElement = document.getElementById(\"chart-996e919f-2805-4ace-bc89-a29aa6d88d0f\");\n",
              "          async function getCodeForChartHandler(event) {\n",
              "            const chartCodeResponse =  await google.colab.kernel.invokeFunction(\n",
              "                'getCodeForChart', [\"chart-996e919f-2805-4ace-bc89-a29aa6d88d0f\"], {});\n",
              "            const responseJson = chartCodeResponse.data['application/json'];\n",
              "            await google.colab.notebook.addCell(responseJson.code, 'code');\n",
              "          }\n",
              "          chartElement.onclick = getCodeForChartHandler;\n",
              "        })();\n",
              "      </script>\n",
              "      <style>\n",
              "        .colab-quickchart-chart-with-code  {\n",
              "            display: block;\n",
              "            float: left;\n",
              "            border: 1px solid transparent;\n",
              "        }\n",
              "\n",
              "        .colab-quickchart-chart-with-code:hover {\n",
              "            cursor: pointer;\n",
              "            border: 1px solid #aaa;\n",
              "        }\n",
              "      </style>"
            ]
          },
          "metadata": {}
        },
        {
          "output_type": "display_data",
          "data": {
            "text/plain": [
              "from matplotlib import pyplot as plt\n",
              "import seaborn as sns\n",
              "def _plot_series(series, series_name, series_index=0):\n",
              "  palette = list(sns.palettes.mpl_palette('Dark2'))\n",
              "  counted = (series['Age']\n",
              "                .value_counts()\n",
              "              .reset_index(name='counts')\n",
              "              .rename({'index': 'Age'}, axis=1)\n",
              "              .sort_values('Age', ascending=True))\n",
              "  xs = counted['Age']\n",
              "  ys = counted['counts']\n",
              "  plt.plot(xs, ys, label=series_name, color=palette[series_index % len(palette)])\n",
              "\n",
              "fig, ax = plt.subplots(figsize=(10, 5.2), layout='constrained')\n",
              "df_sorted = _df_1.sort_values('Age', ascending=True)\n",
              "_plot_series(df_sorted, '')\n",
              "sns.despine(fig=fig, ax=ax)\n",
              "plt.xlabel('Age')\n",
              "_ = plt.ylabel('count()')"
            ],
            "text/html": [
              "      <div class=\"colab-quickchart-chart-with-code\" id=\"chart-8695267d-e06e-4915-bd06-c6c0c7da3c01\">\n",
              "        <img style=\"width: 180px;\" src=\"data:image/png;base64,iVBORw0KGgoAAAANSUhEUgAAA/MAAAITCAYAAABLz0yVAAAAOnRFWHRTb2Z0d2FyZQBNYXRwbG90\n",
              "bGliIHZlcnNpb24zLjEwLjAsIGh0dHBzOi8vbWF0cGxvdGxpYi5vcmcvlHJYcgAAAAlwSFlzAAAP\n",
              "YQAAD2EBqD+naQAAI3lJREFUeJzt3X+slvV9//HX6TnmWFsFjCBkcmD8OKu2Vssv+dHV6dLMOEUr\n",
              "aTSTtqTyQ7sYM5pJyUoWtk5Mq0wHf3hwhFRJGRlYJelfahPL1A7ZOjuhDg7jcI4VpKsb0FYph3N9\n",
              "/zA9357yw3P0nHP7gccjuVLv+/qcc7+v5JM7efa+z0VdVVVVAAAAgGJ8qNYDAAAAAH0j5gEAAKAw\n",
              "Yh4AAAAKI+YBAACgMGIeAAAACiPmAQAAoDBiHgAAAAoj5gEAAKAwYj7Jww8/XOsRAAAAoNfEfJJ9\n",
              "+/bVegQAAADoNTEPAAAAhRHzAAAAUBgxDwAAAIUR8wAAAFAYMQ8AAACFEfMAAABQGDEPAAAAhRHz\n",
              "AAAAUBgxDwAAAIUR8wAAAFAYMQ8AAACFEfMAAABQGDEPAAAAhRHzAAAAUBgxDwAAAIUR8wAAAFAY\n",
              "MQ8AAACFEfMAAABQGDEPAAAAhRHzAAAAUBgxDwAAAIUR8wAAAFAYMQ8AAACFEfMAAABQGDEPAAAA\n",
              "hRHzAAAAUBgxDwAAAIUR8wAAAFAYMQ8AAACFEfMAAABQGDEPAAAAhRHzAAAAUBgxDwAAAIUR8wAA\n",
              "AFAYMQ8AAACFEfMAAABQGDEPAAAAhRHzAAAAUBgxDwAAAIUR8wAAAFAYMQ8AAACFEfMAAABQGDEP\n",
              "AAAAhRHzAAAAUBgxDwAAAIUR8wAAAFAYMQ8AAACFEfMAAABQGDEPAAAAhRHzAAAAUBgxDwAAAIUR\n",
              "8wAAAFAYMQ8AAACFEfMAAABQGDEPAAAAhRHzAAAAUBgxDwAAAIUR8wAAAFAYMQ8AAACFEfMAAABQ\n",
              "GDEPAAAAhflAxPzu3bszc+bMNDc3Z+rUqdmxY8dJ161duzYTJ07M+PHjs2DBghw7dqzH+aqqcu21\n",
              "12bo0KGDMDUAAADUxgci5hctWpSFCxdm165dWbJkSebNm3fCmr1792bZsmXZunVrWltb88Ybb2TN\n",
              "mjU91vz93/99xo8fP0hTAwAAQG3UPOYPHjyY7du3Z+7cuUmSOXPmpKOjI62trT3Wbdq0KbNnz87I\n",
              "kSNTV1eXO++8Mxs2bOg+v2PHjjz55JP52te+dtrXO3r0aA4fPtzjOH78eP9fGAAAAAyQmsd8R0dH\n",
              "Ro0alYaGhiRJXV1dmpqa0t7e3mNde3t7xowZ0/147Nix3WuOHTuWBQsWpKWlJfX19ad9vRUrVmTI\n",
              "kCE9jm3btvXzVQEAAMDAqXnM94fly5fnlltuyaWXXvqua5cuXZpDhw71OKZNmzYIUwIAAED/aKj1\n",
              "AKNHj87+/fvT2dmZhoaGVFWV9vb2NDU19VjX1NSUPXv2dD9ua2vrXvPcc8+lvb09q1evTmdnZw4f\n",
              "PpyxY8fmpZdeyvDhw3v8nsbGxjQ2NvZ47t0+zQcAAIAPkpp/Mj9ixIhMmjQp69evT5Js3rw5l1xy\n",
              "SSZMmNBj3Zw5c7Jly5YcOHAgVVXlkUceyW233ZYk2bp1a/bt25e2trb8y7/8Sy644IK0tbWdEPIA\n",
              "AABwJqh5zCdJS0tLWlpa0tzcnPvvvz/r1q1LksyfPz9btmxJkowbNy7Lly/PrFmzMmHChAwfPjyL\n",
              "Fi2q5dgAAABQE3VVVVW1HqLWFi9enJUrV9Z6DAAAAOiVD8Qn8wAAAEDviXkAAAAojJgHAACAwoh5\n",
              "AAAAKIyYBwAAgMKIeQAAACiMmAcAAIDCiHkAAAAojJgHAACAwoh5AAAAKIyYBwAAgMKIeQAAACiM\n",
              "mAcAAIDCiHkAAAAojJgHAACAwoh5AAAAKIyYBwAAgMKIeQAAACiMmAcAAIDCiHkAAAAojJgHAACA\n",
              "woh5AAAAKIyYBwAAgMKIeQAAACiMmAcAAIDCiHkAAAAojJgHAACAwoh5AAAAKIyYBwAAgMKIeQAA\n",
              "ACiMmAcAAIDCiHkAAAAojJgHAACAwoh5AAAAKIyYBwAAgMKIeQAAACiMmAcAAIDCiHkAAAAojJgH\n",
              "AACAwoh5AAAAKIyYBwAAgMKIeQAAACiMmAcAAIDCiHkAAAAojJgHAACAwoh5AAAAKIyYBwAAgMKI\n",
              "eQAAACiMmAcAAIDCiHkAAAAojJgHAACAwoh5AAAAKIyYBwAAgMKIeQAAACiMmAcAAIDCiHkAAAAo\n",
              "jJgHAACAwoh5AAAAKIyYBwAAgMKIeQAAACiMmAcAAIDCiHkAAAAojJgHAACAwoh5AAAAKIyYBwAA\n",
              "gMKIeQAAACiMmAcAAIDCiHkAAAAojJgHAACAwoh5AAAAKIyYBwAAgMKIeQAAACiMmAcAAIDCiHkA\n",
              "AAAojJgHAACAwoh5AAAAKIyYBwAAgMKIeQAAACjMByLmd+/enZkzZ6a5uTlTp07Njh07Trpu7dq1\n",
              "mThxYsaPH58FCxbk2LFjSZLvf//7mTZtWi677LJ8/OMfz7333puurq7BvAQAAAAYNB+ImF+0aFEW\n",
              "LlyYXbt2ZcmSJZk3b94Ja/bu3Ztly5Zl69ataW1tzRtvvJE1a9YkSYYNG5Z/+qd/ys6dO/Nv//Zv\n",
              "eeGFF/LYY48N8lUAAADA4Kh5zB88eDDbt2/P3LlzkyRz5sxJR0dHWltbe6zbtGlTZs+enZEjR6au\n",
              "ri533nlnNmzYkCT51Kc+lXHjxiVJzj333Fx55ZVpa2s76esdPXo0hw8f7nEcP3584C4QAAAA+lnN\n",
              "Y76joyOjRo1KQ0NDkqSuri5NTU1pb2/vsa69vT1jxozpfjx27NgT1iTJgQMHsmnTptxwww0nfb0V\n",
              "K1ZkyJAhPY5t27b14xUBAADAwKp5zPenw4cP58Ybb8y9996bKVOmnHTN0qVLc+jQoR7HtGnTBnlS\n",
              "AAAAeO8aaj3A6NGjs3///nR2dqahoSFVVaW9vT1NTU091jU1NWXPnj3dj9va2nqsOXLkSK677rrc\n",
              "dNNNWbx48Slfr7GxMY2NjT2eq6+v76erAQAAgIFX80/mR4wYkUmTJmX9+vVJks2bN+eSSy7JhAkT\n",
              "eqybM2dOtmzZkgMHDqSqqjzyyCO57bbbkiS/+MUvct111+W6667L17/+9UG/BgAAABhMNY/5JGlp\n",
              "aUlLS0uam5tz//33Z926dUmS+fPnZ8uWLUmScePGZfny5Zk1a1YmTJiQ4cOHZ9GiRUmShx9+ONu2\n",
              "bcsTTzyRK6+8MldeeWX+7u/+rmbXAwAAAAOprqqqqtZD1NrixYuzcuXKWo8BAAAAvfKB+GQeAAAA\n",
              "6D0xDwAAAIUR8wAAAFAYMQ8AAACFEfMAAABQGDEPAAAAhRHzAAAAUBgxDwAAAIUR8wAAAFAYMQ8A\n",
              "AACFEfMAAABQGDEPAAAAhRHzAAAAUBgxDwAAAIUR8wAAAFAYMQ8AAACFEfMAAABQGDEPAAAAhRHz\n",
              "AAAAUBgxDwAAAIUR8wAAAFAYMQ8AAACFEfMAAABQGDEPAAAAhRHzAAAAUBgxDwAAAIUR8wAAAFAY\n",
              "MQ8AAACFEfMAAABQGDEPAAAAhRHzAAAAUBgxDwAAAIUR8wAAAFAYMQ8AAACFEfMAAABQGDEPAAAA\n",
              "hRHzAAAAUBgxDwAAAIUR8wAAAFAYMQ8AAACFEfMAAABQGDEPAAAAhRHzAAAAUBgxDwAAAIUR8wAA\n",
              "AFAYMQ8AAACFEfMAAABQGDEPAAAAhRHzAAAAUBgxDwAAAIUR8wAAAFAYMQ8AAACFEfMAAABQGDEP\n",
              "AAAAhRHzAAAAUBgxDwAAAIUR8wAAAFAYMQ8AAACFEfMAAABQGDEPAAAAhRHzAAAAUBgxDwAAAIUR\n",
              "8wAAAFAYMQ8AAACFaXgvP7Rz58689tpr+fCHP5zLL788Q4cO7eexAAAAgFPpdcwfOXIkDzzwQB59\n",
              "9NGcd955ufjii/P2229nz549mTZtWpYsWZI//uM/HshZAQAAgPQh5q+55pp88YtfzI9+9KNcfPHF\n",
              "3c93dXVl69ateeSRR9La2ppFixYNyKAAAADAO3od888//3waGxtPeP5DH/pQrr766lx99dU5evRo\n",
              "vw4HAAAAnKjXN8A7Wci/lzUAAADA+9PrmL/hhhvywgsvnPTc//3f/+XBBx9MS0tLvw0GAAAAnFyv\n",
              "v2Z/3333ZenSpdm5c2emTp3afQO8V199NT/96U/z53/+5/nyl788kLMCAAAA6UPMf/KTn8z3vve9\n",
              "dHR05Lnnnstrr72W8847L7fffns+/elPp6HhPf0rdwAAAEAf9bnA//d//zdz587t8dyPf/zjfPKT\n",
              "n+y3oQAAAIBT6/XfzP/GvHnzevUcAAAAMDB6/cn8wYMHc+DAgbz11lv5z//8z1RVlSQ5dOhQfvnL\n",
              "Xw7YgAAAAEBPvY75DRs25KGHHsrrr7+e2bNndz8/ZMiQ3HvvvQMyHAAAAHCiXsf8Pffck3vuuSd/\n",
              "+7d/m2XLlg3kTAAAAMBp9PkGeMuWLUtXV1cOHDiQzs7O7uebmpr6dTAAAADg5Pp8A7xvf/vbGTp0\n",
              "aC6//PJMnjw5kydPzpQpU97XELt3787MmTPT3NycqVOnZseOHSddt3bt2kycODHjx4/PggULcuzY\n",
              "sV6dAwAAgDNJn2P+b/7mb/LSSy/l5z//eX72s5/lZz/7WQ4ePPi+hli0aFEWLlyYXbt2ZcmSJSe9\n",
              "O/7evXuzbNmybN26Na2trXnjjTeyZs2adz0HAAAAZ5o+x/xFF12UP/iDP+i3AQ4ePJjt27d3/9v1\n",
              "c+bMSUdHR1pbW3us27RpU2bPnp2RI0emrq4ud955ZzZs2PCu5wAAAOBM0+eYv/nmm/PQQw/l4MGD\n",
              "OXz4cPfxXnV0dGTUqFFpaHjnz/fr6urS1NSU9vb2Huva29szZsyY7sdjx47tXnO6c7/r6NGjPeY+\n",
              "fPhwjh8//p7nBwAAgMHW55j/q7/6qyxevDgjR47MsGHDMnTo0AwbNmwgZhsQK1asyJAhQ3oc27Zt\n",
              "q/VYAAAA0Gt9jvmurq7u4/jx493/+16NHj06+/fv774zflVVaW9vP+Hu+E1NTdm3b1/347a2tu41\n",
              "pzv3u5YuXZpDhw71OKZNm/ae5wcAAIDB1ueY728jRozIpEmTsn79+iTJ5s2bc8kll2TChAk91s2Z\n",
              "MydbtmzJgQMHUlVVHnnkkdx2223veu53NTY25oILLuhx1NfXD+xFAgAAQD/qc8x/6EMfSn19/QnH\n",
              "+9HS0pKWlpY0Nzfn/vvvz7p165Ik8+fPz5YtW5Ik48aNy/LlyzNr1qxMmDAhw4cPz6JFi971HAAA\n",
              "AJxp6qqqqvryA7/85S+7//utt97KY489luPHj+cv//Iv+324wbJ48eKsXLmy1mMAAABAr/T5k/mP\n",
              "fOQj3cdFF12UxYsXZ9OmTQMxGwAAAHAS7/tv5l999dX8z//8T3/MAgAAAPRCQ19/YNiwYamrq0uS\n",
              "7jvQr1q1qn+nAgAAAE6pzzH/H//xH///hxsaMnLkSHeDBwAAgEHU55gfM2ZMfvWrX3VH/bBhw3Le\n",
              "eef191wAAADAKfQ55l944YXMmTMnI0eOTJK88cYb2bx5c2bMmNHvwwEAAAAn6nPM/+bu9bNmzUry\n",
              "Ttz/xV/8RX74wx/2+3AAAADAifp8N/u33nqrO+STZObMmXn77bf7dSgAAADg1Poc8x/96EfzzDPP\n",
              "dD9+9tln85GPfKRfhwIAAABOrc9fs/+Hf/iH3HLLLd13sO/q6soTTzzR74MBAAAAJ9fnmH/99dez\n",
              "ffv2vPHGG0mSiy++ONu2bev3wQAAAICT6/PX7JctW5bhw4fnE5/4RD7xiU/koosuyrJlywZiNgAA\n",
              "AOAk+hzzv6uuri7Hjx/vj1kAAACAXuhzzJ9//vl54YUXuh8///zzOf/88/t1KAAAAODU+vw389/8\n",
              "5jfzuc99Lh/72MeSJLt37853v/vdfh8MAAAAOLk+x/yMGTPyk5/8JC+++GKSd/6d+aFDh/b3XAAA\n",
              "AMAp9Dnmk2TYsGG5/vrr+3sWAAAAoBfe9w3wAAAAgMEl5gEAAKAwYh4AAAAKI+YBAACgMGIeAAAA\n",
              "CiPmAQAAoDBiHgAAAAoj5gEAAKAwYh4AAAAKI+YBAACgMGIeAAAACiPmAQAAoDBiHgAAAAoj5gEA\n",
              "AKAwYh4AAAAKI+YBAACgMGIeAAAACiPmAQAAoDBiHgAAAAoj5gEAAKAwYh4AAAAKI+YBAACgMGIe\n",
              "AAAACiPmAQAAoDBiHgAAAAoj5gEAAKAwYh4AAAAKI+YBAACgMGIeAAAACiPmAQAAoDBiHgAAAAoj\n",
              "5gEAAKAwYh4AAAAKI+YBAACgMGIeAAAACiPmAQAAoDBiHgAAAAoj5gEAAKAwYh4AAAAKI+YBAACg\n",
              "MGIeAAAACiPmAQAAoDBiHgAAAAoj5gEAAKAwYh4AAAAKI+YBAACgMGIeAAAACiPmAQAAoDBiHgAA\n",
              "AAoj5gEAAKAwYh4AAAAKI+YBAACgMGIeAAAACiPmAQAAoDBiHgAAAAoj5gEAAKAwYh4AAAAKI+YB\n",
              "AACgMGIeAAAACiPmAQAAoDBiHgAAAAoj5gEAAKAwNY35rq6u3H333Rk/fnwmTJiQ1atXn3Lt7t27\n",
              "M3PmzDQ3N2fq1KnZsWNHkuTtt9/OzTffnObm5lxxxRX57Gc/m9bW1sG6BAAAABh0NY359evXZ+fO\n",
              "ndm1a1e2bduWb33rW92R/rsWLVqUhQsXZteuXVmyZEnmzZvXfW7hwoX5r//6r7z88su56aabMn/+\n",
              "/EG6AgAAABh8NY35jRs3ZsGCBamvr8+FF16YW2+9NRs2bDhh3cGDB7N9+/bMnTs3STJnzpx0dHSk\n",
              "tbU15557bq6//vrU1dUlSaZPn562trZTvubRo0dz+PDhHsfx48cH5PoAAABgINQ05tvb2zNmzJju\n",
              "x2PHjk17e/sJ6zo6OjJq1Kg0NDQkSerq6tLU1HTStQ8//HBuuummU77mihUrMmTIkB7Htm3b+uFq\n",
              "AAAAYHAMaMzPmDEjF1100UmPjo6Ofn+9++67L62trVmxYsUp1yxdujSHDh3qcUybNq3fZwEAAICB\n",
              "0jCQv/zFF1887fmmpqbs27cvM2bMSJK0tbWlqanphHWjR4/O/v3709nZmYaGhlRVlfb29h5rH3jg\n",
              "gTzxxBN55plnct55553yNRsbG9PY2Njjufr6+r5cFgAAANRUTb9m//nPfz6PPvpojh8/njfffDMb\n",
              "N27MrbfeesK6ESNGZNKkSVm/fn2SZPPmzbnkkksyYcKEJMnKlSuzYcOGPP300xk6dOhgXgIAAAAM\n",
              "ugH9ZP7dfOELX8hLL72UiRMnpq6uLosXL87ll1+eJNmyZUu2bNmSf/zHf0yStLS0ZN68ebnvvvty\n",
              "wQUXZN26dUmS1157LV/96lczbty4XHPNNUne+fT9X//1X2tzUQAAADDA6qqqqmo9RK0tXrw4K1eu\n",
              "rPUYAAAA0Cs1/Zo9AAAA0HdiHgAAAAoj5gEAAKAwYh4AAAAKI+YBAACgMGIeAAAACiPmAQAAoDBi\n",
              "HgAAAAoj5gEAAKAwYh4AAAAKI+YBAACgMGIeAAAACiPmAQAAoDBiHgAAAAoj5gEAAKAwYh4AAAAK\n",
              "I+YBAACgMGIeAAAACiPmAQAAoDBiHgAAAAoj5gEAAKAwYh4AAAAKI+YBAACgMGIeAAAACiPmAQAA\n",
              "oDBiHgAAAAoj5gEAAKAwYh4AAAAKI+YBAACgMGIeAAAACiPmAQAAoDBiHgAAAAoj5gEAAKAwYh4A\n",
              "AAAKI+YBAACgMGIeAAAACiPmAQAAoDBiHgAAAAoj5gEAAKAwYh4AAAAKI+YBAACgMGIeAAAACiPm\n",
              "AQAAoDBiHgAAAAoj5gEAAKAwYh4AAAAKI+YBAACgMGIeAAAACiPmAQAAoDBiHgAAAAoj5gEAAKAw\n",
              "Yh4AAAAKI+YBAACgMGIeAAAACiPmAQAAoDBiHgAAAAoj5gEAAKAwYh4AAAAKI+YBAACgMGIeAAAA\n",
              "CiPmAQAAoDBiHgAAAAoj5gEAAKAwYh4AAAAKI+YBAACgMGIeAAAACiPmAQAAoDBiHgAAAAoj5gEA\n",
              "AKAwYh4AAAAKI+YBAACgMGIeAAAACiPmAQAAoDBiHgAAAAoj5gEAAKAwYh4AAAAKI+YBAACgMGIe\n",
              "AAAAClPTmO/q6srdd9+d8ePHZ8KECVm9evUp1+7evTszZ85Mc3Nzpk6dmh07dpywZt26damrq8uT\n",
              "Tz45gFMDAABAbdU05tevX5+dO3dm165d2bZtW771rW+dNNKTZNGiRVm4cGF27dqVJUuWZN68eT3O\n",
              "t7W15dFHH8306dMHYXIAAAConZrG/MaNG7NgwYLU19fnwgsvzK233poNGzacsO7gwYPZvn175s6d\n",
              "mySZM2dOOjo60tramuSdT/jnz5+fVatWpbGx8bSvefTo0Rw+fLjHcfz48f6/OAAAABggNY359vb2\n",
              "jBkzpvvx2LFj097efsK6jo6OjBo1Kg0NDUmSurq6NDU1da9duXJlZs2alcmTJ7/ra65YsSJDhgzp\n",
              "cWzbtq2frggAAAAG3oDG/IwZM3LRRRed9Ojo6OiX13jllVeyefPmfP3rX+/V+qVLl+bQoUM9jmnT\n",
              "pvXLLAAAADAYGgbyl7/44ounPd/U1JR9+/ZlxowZSd75u/empqYT1o0ePTr79+9PZ2dnGhoaUlVV\n",
              "2tvb09TUlKeffjptbW2ZOHFikuTAgQNZuHBh9u/fn7vuuuuE39XY2HjCV/Hr6+vf6yUCAADAoKvp\n",
              "1+w///nP59FHH83x48fz5ptvZuPGjbn11ltPWDdixIhMmjQp69evT5Js3rw5l1xySSZMmJC77ror\n",
              "+/fvT1tbW9ra2jJ9+vSsWbPmpCEPAAAAZ4KaxvwXvvCFfOxjH8vEiRMzderULF68OJdffnmSZMuW\n",
              "LZk/f3732paWlrS0tKS5uTn3339/1q1bV6uxAQAAoKbqqqqqaj1ErS1evDgrV66s9RgAAADQKzX9\n",
              "ZB4AAADoOzEPAAAAhRHzAAAAUBgxDwAAAIUR8wAAAFAYMQ8AAACFEfMAAABQGDEPAAAAhRHzAAAA\n",
              "UBgxDwAAAIUR8wAAAFAYMQ8AAACFEfMAAABQGDEPAAAAhRHzAAAAUBgxDwAAAIUR8wAAAFAYMQ8A\n",
              "AACFEfMAAABQGDEPAAAAhRHzAAAAUBgxDwAAAIUR8wAAAFAYMQ8AAACFEfMAAABQGDEPAAAAhRHz\n",
              "AAAAUBgxDwAAAIUR8wAAAFAYMQ8AAACFEfMAAABQGDEPAAAAhRHzAAAAUBgxDwAAAIUR8wAAAFAY\n",
              "MQ8AAACFEfMAAABQGDEPAAAAhRHzAAAAUBgxDwAAAIUR8wAAAFAYMQ8AAACFEfMAAABQGDEPAAAA\n",
              "hRHzAAAAUBgxDwAAAIUR8wAAAFAYMQ8AAACFEfMAAABQGDEPAAAAhRHzAAAAUBgxDwAAAIUR8wAA\n",
              "AFAYMQ8AAACFEfMAAABQGDEPAAAAhRHzAAAAUBgxDwAAAIUR8wAAAFAYMQ8AAACFqauqqqr1ELV2\n",
              "yy23ZOzYsbUegxo4fvx4tm3blmnTpqW+vr7W48BJ2aeUwD6lFPYqJbBPGTNmTO65557TrhHznNUO\n",
              "Hz6cIUOG5NChQ7ngggtqPQ6clH1KCexTSmGvUgL7lN7wNXsAAAAojJgHAACAwoh5AAAAKIyY56zW\n",
              "2NiYv/7rv05jY2OtR4FTsk8pgX1KKexVSmCf0htugAcAAACF8ck8AAAAFEbMAwAAQGHEPAAAABRG\n",
              "zHPG6+rqyt13353x48dnwoQJWb169SnX7t69OzNnzkxzc3OmTp2aHTt2nLBm3bp1qaury5NPPjmA\n",
              "U3O26Y99+vbbb+fmm29Oc3Nzrrjiinz2s59Na2vrYF0CZ7DevDcmydq1azNx4sSMHz8+CxYsyLFj\n",
              "x3p1DvrD+92n3//+9zNt2rRcdtll+fjHP5577703XV1dg3kJnAX64/00SaqqyrXXXpuhQ4cOwtR8\n",
              "YFVwhvv2t79dXXvttVVnZ2f185//vGpqaqpeeeWVk6695pprqnXr1lVVVVX//M//XE2ZMqXH+b17\n",
              "91YzZsyopk+fXn33u98d4Mk5m/THPn3rrbeq733ve1VXV1dVVVW1atWq6uqrrx6M8TnDvdt7Y1VV\n",
              "1X//939Xo0aNqvbv3191dXVVN954Y7V69ep3PQf95f3u03//93+v9uzZU1XVO++ns2bN6v590F/e\n",
              "7z79jQcffLCaP39+NWTIkEGYmg8qn8xzxtu4cWMWLFiQ+vr6XHjhhbn11luzYcOGE9YdPHgw27dv\n",
              "z9y5c5Mkc+bMSUdHR/cnm11dXZk/f35WrVrlnwmh3/XHPj333HNz/fXXp66uLkkyffr0tLW1DeZl\n",
              "cAZ6t/fG39i0aVNmz56dkSNHpq6uLnfeeWf3Hj7dOegP/bFPP/WpT2XcuHFJknPPPTdXXnml91D6\n",
              "VX/s0yTZsWNHnnzyyXzta18b1Pn54BHznPHa29szZsyY7sdjx45Ne3v7Ces6OjoyatSoNDQ0JEnq\n",
              "6urS1NTUvXblypWZNWtWJk+ePDiDc1bpr3362x5++OHcdNNNAzc0Z4Xe7rnT7eHe7m94r/pjn/62\n",
              "AwcOZNOmTbnhhhsGdnDOKv2xT48dO5YFCxakpaUl9fX1gzc8H0gNtR4A3q8ZM2Zk9+7dJz33ox/9\n",
              "qF9e45VXXsnmzZvzgx/8oF9+H2efwdinv+2+++5La2trnn322X7/3QBnssOHD+fGG2/MvffemylT\n",
              "ptR6HOhh+fLlueWWW3LppZf65ghinvK9+OKLpz3f1NSUffv2ZcaMGUmStra2NDU1nbBu9OjR2b9/\n",
              "fzo7O9PQ0JCqqtLe3p6mpqY8/fTTaWtry8SJE5O88//YL1y4MPv3789dd93V/xfFGWcw9ulvPPDA\n",
              "A3niiSfyzDPP5LzzzuvfC+Gs05s9l7yzh/fs2dP9+Lf38OnOQX/oj32aJEeOHMl1112Xm266KYsX\n",
              "Lx60+Tk79Mc+fe6559Le3p7Vq1ens7Mzhw8fztixY/PSSy9l+PDhg3o9fADU9C/2YRCsW7fuhBuL\n",
              "/fjHPz7p2quvvrrHTUkmT558ynVugEd/6q99+uCDD1aTJk2q3nzzzcEYm7NEb94b9+zZc8INm1at\n",
              "WvWu56C/vN99euTIkWrmzJnV8uXLB3NszjLvd5/+tr1797oB3llOzHPG6+zsrL7yla9Uv//7v1+N\n",
              "Gzeueuihh7rPPfXUU9Udd9zR/fjVV1+tpk+fXk2cOLGaPHnyaWNKzNOf+mOfdnR0VEmqcePGVVdc\n",
              "cUV1xRVXVNOmTRv0a+HMc6o9d8cdd1RPPfVU97o1a9ZU48aNq8aNG1d9+ctfrn7961/36hz0h/e7\n",
              "T7/xjW9UDQ0N3e+fV1xxRfWNb3yjJtfCmas/3k9/Q8xTV1VVVetvBwAAAAC95272AAAAUBgxDwAA\n",
              "AIUR8wAAAFAYMQ8A9MqRI0fy0Y9+NHfccUetRwGAs56YBwB6ZePGjZk8eXKeeOKJ/OIXv6j1OABw\n",
              "VhPzAECvrF27NkuWLMlnPvOZbNy4MUly7NixfOUrX0lzc3OmT5+er371q/mjP/qj7p95/PHHc9VV\n",
              "V2XSpEn5zGc+k5dffrlG0wPAmaWh1gMAAB98O3fuTEdHR/7kT/4knZ2duf/++3PHHXdkzZo12b17\n",
              "d3bs2JEkuf7667t/5vnnn8+GDRvygx/8II2Njdm6dWv+7M/+rHstAPDe+WQeAHhXa9euzRe/+MXU\n",
              "19fn+uuvz969e/OTn/wkzz77bObOnZtzzjkn55xzTr70pS91/8xTTz2Vl19+OVdddVWuvPLK3H33\n",
              "3XnzzTfz1ltv1fBKAODM4JN5AOC0jh07lscffzznnHNOvvOd7yRJfvWrX2Xt2rUnrK2rq+v+76qq\n",
              "8qUvfSn33XffoM0KAGcLn8wDAKe1ZcuWjBs3Lj/96U/T1taWtra2/PCHP8zjjz+ea665Jt/5zndy\n",
              "7NixHDt2LI899lj3z82ePTvr169Pe3t7kqSrqyvbt2+v1WUAwBnFJ/MAwGmtXbs2t99+e4/nLr30\n",
              "0vze7/1eRowYkbFjx+ayyy7LsGHDMmXKlLz++utJkj/8wz/MN7/5zXzuc59LZ2dnfv3rX+dP//RP\n",
              "M2XKlFpcBgCcUeqqqqpqPQQAUK4jR47k/PPPz7Fjx3L77bdn8uTJWbJkSa3HAoAzmpgHAN6Xq666\n",
              "KkePHs3bb7+dT3/601m1alU+/OEP13osADijiXkAAAAojBvgAQAAQGHEPAAAABRGzAMAAEBhxDwA\n",
              "AAAURswDAABAYcQ8AAAAFEbMAwAAQGHEPAAAABTm/wFzwFc1VuJ1OgAAAABJRU5ErkJggg==\n",
              "\">\n",
              "      </div>\n",
              "      <script type=\"text/javascript\">\n",
              "        (() => {\n",
              "          const chartElement = document.getElementById(\"chart-8695267d-e06e-4915-bd06-c6c0c7da3c01\");\n",
              "          async function getCodeForChartHandler(event) {\n",
              "            const chartCodeResponse =  await google.colab.kernel.invokeFunction(\n",
              "                'getCodeForChart', [\"chart-8695267d-e06e-4915-bd06-c6c0c7da3c01\"], {});\n",
              "            const responseJson = chartCodeResponse.data['application/json'];\n",
              "            await google.colab.notebook.addCell(responseJson.code, 'code');\n",
              "          }\n",
              "          chartElement.onclick = getCodeForChartHandler;\n",
              "        })();\n",
              "      </script>\n",
              "      <style>\n",
              "        .colab-quickchart-chart-with-code  {\n",
              "            display: block;\n",
              "            float: left;\n",
              "            border: 1px solid transparent;\n",
              "        }\n",
              "\n",
              "        .colab-quickchart-chart-with-code:hover {\n",
              "            cursor: pointer;\n",
              "            border: 1px solid #aaa;\n",
              "        }\n",
              "      </style>"
            ]
          },
          "metadata": {}
        }
      ]
    },
    {
      "cell_type": "code",
      "source": [
        "print(df['age'].describe())\n",
        "\n",
        "import matplotlib.pyplot as plt\n",
        "df['age'].plot.box()\n",
        "plt.show()"
      ],
      "metadata": {
        "colab": {
          "base_uri": "https://localhost:8080/",
          "height": 586
        },
        "id": "zlmEcPM53VDI",
        "outputId": "06d55b89-be63-4038-e68f-9f23c16e29ca"
      },
      "execution_count": null,
      "outputs": [
        {
          "output_type": "stream",
          "name": "stdout",
          "text": [
            "count      5.000000\n",
            "mean      56.000000\n",
            "std       81.807701\n",
            "min       -5.000000\n",
            "25%       25.000000\n",
            "50%       30.000000\n",
            "75%       30.000000\n",
            "max      200.000000\n",
            "Name: age, dtype: float64\n"
          ]
        },
        {
          "output_type": "display_data",
          "data": {
            "text/plain": [
              "<Figure size 640x480 with 1 Axes>"
            ],
            "image/png": "[encoded data removed]"
          },
          "metadata": {}
        }
      ]
    },
    {
      "cell_type": "code",
      "source": [
        "print(df['gender'].value_counts())\n",
        "\n",
        "df['gender'] = df['gender'].replace({'male': 'Male', 'F': 'Female', 'Unknown': None})\n",
        "\n",
        "print(df[df['Salary'] < 0])"
      ],
      "metadata": {
        "colab": {
          "base_uri": "https://localhost:8080/"
        },
        "id": "7EReks2n3xn4",
        "outputId": "632133b5-6c0a-48eb-92dc-78c14bece363"
      },
      "execution_count": null,
      "outputs": [
        {
          "output_type": "stream",
          "name": "stdout",
          "text": [
            "gender\n",
            "Male       2\n",
            "male       1\n",
            "F          1\n",
            "Unknown    1\n",
            "Name: count, dtype: int64\n",
            "   id  age gender  Salary\n",
            "4   5  200   None -3000.0\n"
          ]
        }
      ]
    },
    {
      "cell_type": "code",
      "source": [
        "df.isna().sum()"
      ],
      "metadata": {
        "colab": {
          "base_uri": "https://localhost:8080/",
          "height": 210
        },
        "id": "_NDxz0OB37_g",
        "outputId": "9cce7bc0-f6a0-4771-b915-214bd587f87f"
      },
      "execution_count": null,
      "outputs": [
        {
          "output_type": "execute_result",
          "data": {
            "text/plain": [
              "id        0\n",
              "age       0\n",
              "gender    1\n",
              "Salary    1\n",
              "dtype: int64"
            ],
            "text/html": [
              "<div>\n",
              "<style scoped>\n",
              "    .dataframe tbody tr th:only-of-type {\n",
              "        vertical-align: middle;\n",
              "    }\n",
              "\n",
              "    .dataframe tbody tr th {\n",
              "        vertical-align: top;\n",
              "    }\n",
              "\n",
              "    .dataframe thead th {\n",
              "        text-align: right;\n",
              "    }\n",
              "</style>\n",
              "<table border=\"1\" class=\"dataframe\">\n",
              "  <thead>\n",
              "    <tr style=\"text-align: right;\">\n",
              "      <th></th>\n",
              "      <th>0</th>\n",
              "    </tr>\n",
              "  </thead>\n",
              "  <tbody>\n",
              "    <tr>\n",
              "      <th>id</th>\n",
              "      <td>0</td>\n",
              "    </tr>\n",
              "    <tr>\n",
              "      <th>age</th>\n",
              "      <td>0</td>\n",
              "    </tr>\n",
              "    <tr>\n",
              "      <th>gender</th>\n",
              "      <td>1</td>\n",
              "    </tr>\n",
              "    <tr>\n",
              "      <th>Salary</th>\n",
              "      <td>1</td>\n",
              "    </tr>\n",
              "  </tbody>\n",
              "</table>\n",
              "</div><br><label><b>dtype:</b> int64</label>"
            ]
          },
          "metadata": {},
          "execution_count": 9
        }
      ]
    },
    {
      "cell_type": "code",
      "source": [
        "import pandas as pd\n",
        "\n",
        "data = {\n",
        "    'Name': ['Alice', 'Bob', None, 'Eve'],\n",
        "    'Age': [25, None, 30, 22],\n",
        "    'City': ['Delhi', 'Mumbai', 'Bangalore', None]\n",
        "}\n",
        "\n",
        "df = pd.DataFrame(data)\n",
        "\n",
        "df.info()"
      ],
      "metadata": {
        "colab": {
          "base_uri": "https://localhost:8080/"
        },
        "id": "a5s67ky44EL5",
        "outputId": "55d87e48-5247-4ec3-8d67-3cf268c71b15"
      },
      "execution_count": null,
      "outputs": [
        {
          "output_type": "stream",
          "name": "stdout",
          "text": [
            "<class 'pandas.core.frame.DataFrame'>\n",
            "RangeIndex: 4 entries, 0 to 3\n",
            "Data columns (total 3 columns):\n",
            " #   Column  Non-Null Count  Dtype  \n",
            "---  ------  --------------  -----  \n",
            " 0   Name    3 non-null      object \n",
            " 1   Age     3 non-null      float64\n",
            " 2   City    3 non-null      object \n",
            "dtypes: float64(1), object(2)\n",
            "memory usage: 228.0+ bytes\n"
          ]
        }
      ]
    },
    {
      "cell_type": "code",
      "source": [
        "print(df.isna())"
      ],
      "metadata": {
        "colab": {
          "base_uri": "https://localhost:8080/"
        },
        "id": "ZDSz4Fno4LcY",
        "outputId": "2d25efdd-93b9-4d13-d6c6-414a95125ff8"
      },
      "execution_count": null,
      "outputs": [
        {
          "output_type": "stream",
          "name": "stdout",
          "text": [
            "    Name    Age   City\n",
            "0  False  False  False\n",
            "1  False   True  False\n",
            "2   True  False  False\n",
            "3  False  False   True\n"
          ]
        }
      ]
    },
    {
      "cell_type": "code",
      "source": [
        "print(df.isna().sum())"
      ],
      "metadata": {
        "colab": {
          "base_uri": "https://localhost:8080/"
        },
        "id": "o8BVxfzW4Tlo",
        "outputId": "a7235f06-1788-4f2a-d966-f0706112fb2a"
      },
      "execution_count": null,
      "outputs": [
        {
          "output_type": "stream",
          "name": "stdout",
          "text": [
            "Name    1\n",
            "Age     1\n",
            "City    1\n",
            "dtype: int64\n"
          ]
        }
      ]
    },
    {
      "cell_type": "code",
      "source": [
        "import pandas as pd\n",
        "import numpy as np\n",
        "import matplotlib.pyplot as plt\n",
        "from scipy import stats\n",
        "\n",
        "data = pd.Series([160, 162, 158, 165, 161, 250])\n",
        "\n",
        "plt.boxplot(data)\n",
        "plt.title(\"Univariate Outlier Detection - Boxplot\")\n",
        "plt.show()\n",
        "\n",
        "Q1 = data.quantile(0.25)\n",
        "Q3 = data.quantile(0.75)\n",
        "IQR = Q3 - Q1\n",
        "outliers = data[(data < (Q1 - 1.5 * IQR)) | (data > (Q3 + 1.5 * IQR))]\n",
        "print(\"Outliers:\", outliers.values)"
      ],
      "metadata": {
        "colab": {
          "base_uri": "https://localhost:8080/",
          "height": 469
        },
        "id": "IXSd71fy4VJR",
        "outputId": "357b3e9d-4cf1-4fc1-98b9-974f95568e56"
      },
      "execution_count": null,
      "outputs": [
        {
          "output_type": "display_data",
          "data": {
            "text/plain": [
              "<Figure size 640x480 with 1 Axes>"
            ],
            "image/png": "[encoded data removed]"
          },
          "metadata": {}
        },
        {
          "output_type": "stream",
          "name": "stdout",
          "text": [
            "Outliers: [250]\n"
          ]
        }
      ]
    },
    {
      "cell_type": "code",
      "source": [
        "import matplotlib.pyplot as plt\n",
        "import numpy as np\n",
        "\n",
        "height = np.array([160, 162, 158, 165, 161, 250])\n",
        "weight = np.array([55, 60, 54, 63, 59, 80])\n",
        "\n",
        "plt.scatter(height, weight)\n",
        "plt.xlabel(\"Height (cm)\")\n",
        "plt.ylabel(\"Weight (kg)\")\n",
        "plt.title(\"Bivariate Outlier Detection - Scatter Plot\")\n",
        "plt.show()"
      ],
      "metadata": {
        "colab": {
          "base_uri": "https://localhost:8080/",
          "height": 472
        },
        "id": "-uPDZlg84ciA",
        "outputId": "697fdf1d-d471-475c-8b25-1a1440595c71"
      },
      "execution_count": null,
      "outputs": [
        {
          "output_type": "display_data",
          "data": {
            "text/plain": [
              "<Figure size 640x480 with 1 Axes>"
            ],
            "image/png": "[encoded data removed]"
          },
          "metadata": {}
        }
      ]
    },
    {
      "cell_type": "code",
      "source": [
        "import pandas as pd\n",
        "import matplotlib.pyplot as plt\n",
        "\n",
        "dates = pd.date_range(start='2023-01-01', periods=12, freq='M')\n",
        "sales = pd.Series([200, 210, 205, 220, 215, 800, 225, 230, 240, 235,200, 245], index=dates)\n",
        "\n",
        "sales.plot(marker='o', title=\"Time Series Outlier Detection\")\n",
        "plt.show()\n",
        "\n",
        "mean = sales.mean()\n",
        "std = sales.std()\n",
        "outliers = sales[(sales > mean + 3*std) | (sales < mean - 3*std)]\n",
        "print(\"Outliers in time series:\\n\", outliers)"
      ],
      "metadata": {
        "colab": {
          "base_uri": "https://localhost:8080/",
          "height": 555
        },
        "id": "Zct_xcqe4k0x",
        "outputId": "1453c920-ff42-4ede-db37-3d0337f9dae4"
      },
      "execution_count": null,
      "outputs": [
        {
          "output_type": "stream",
          "name": "stderr",
          "text": [
            "/tmp/ipython-input-3383813695.py:4: FutureWarning: 'M' is deprecated and will be removed in a future version, please use 'ME' instead.\n",
            "  dates = pd.date_range(start='2023-01-01', periods=12, freq='M')\n"
          ]
        },
        {
          "output_type": "display_data",
          "data": {
            "text/plain": [
              "<Figure size 640x480 with 1 Axes>"
            ],
            "image/png": "[encoded data removed]"
          },
          "metadata": {}
        },
        {
          "output_type": "stream",
          "name": "stdout",
          "text": [
            "Outliers in time series:\n",
            " 2023-06-30    800\n",
            "Freq: ME, dtype: int64\n"
          ]
        }
      ]
    },
    {
      "cell_type": "code",
      "source": [
        "import pandas as pd\n",
        "data = pd.Series([5, 6, 7, 8, 100])\n",
        "\n",
        "lower_cap = data.quantile(0.05)\n",
        "upper_cap = data.quantile(0.95)\n",
        "\n",
        "capped_data = data.clip(lower=lower_cap, upper=upper_cap)\n",
        "print(capped_data)"
      ],
      "metadata": {
        "colab": {
          "base_uri": "https://localhost:8080/"
        },
        "id": "aqV-07d44okB",
        "outputId": "6d76a30c-47d7-4532-f297-4860d959e53e"
      },
      "execution_count": null,
      "outputs": [
        {
          "output_type": "stream",
          "name": "stdout",
          "text": [
            "0     5.2\n",
            "1     6.0\n",
            "2     7.0\n",
            "3     8.0\n",
            "4    81.6\n",
            "dtype: float64\n"
          ]
        }
      ]
    },
    {
      "cell_type": "code",
      "source": [
        "import numpy as np\n",
        "data = pd.Series([10, 12, 15, 20, 200])\n",
        "log_data = np.log(data)\n",
        "print(log_data)"
      ],
      "metadata": {
        "colab": {
          "base_uri": "https://localhost:8080/"
        },
        "id": "Whcil33-5Pnx",
        "outputId": "7c7e8aaa-8bbb-4df0-9fc3-6a8e69b5a7f5"
      },
      "execution_count": null,
      "outputs": [
        {
          "output_type": "stream",
          "name": "stdout",
          "text": [
            "0    2.302585\n",
            "1    2.484907\n",
            "2    2.708050\n",
            "3    2.995732\n",
            "4    5.298317\n",
            "dtype: float64\n"
          ]
        }
      ]
    },
    {
      "cell_type": "code",
      "source": [
        "Q1 = data.quantile(0.25)\n",
        "Q3 = data.quantile(0.75)\n",
        "IQR = Q3 - Q1\n",
        "\n",
        "filtered_data = data[(data >= (Q1 - 1.5 * IQR)) & (data <= (Q3 + 1.5 * IQR))]\n",
        "print(filtered_data)"
      ],
      "metadata": {
        "colab": {
          "base_uri": "https://localhost:8080/"
        },
        "id": "xLt3n8Zt5gRo",
        "outputId": "3a4676b4-2aa9-4160-8717-caf9e9ef4fb1"
      },
      "execution_count": null,
      "outputs": [
        {
          "output_type": "stream",
          "name": "stdout",
          "text": [
            "0    10\n",
            "1    12\n",
            "2    15\n",
            "3    20\n",
            "dtype: int64\n"
          ]
        }
      ]
    },
    {
      "cell_type": "code",
      "source": [],
      "metadata": {
        "id": "kxTGhjwuI3pk"
      },
      "execution_count": null,
      "outputs": []
    }
  ]
}